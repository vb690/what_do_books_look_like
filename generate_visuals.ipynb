{
 "cells": [
  {
   "cell_type": "code",
   "execution_count": 1,
   "metadata": {},
   "outputs": [],
   "source": [
    "import numpy as np\n",
    "\n",
    "import pandas as pd\n",
    "\n",
    "from tensorflow.keras.models import load_model\n",
    "\n",
    "from umap import UMAP\n",
    "\n",
    "from mpl_toolkits.mplot3d import Axes3D\n",
    "import matplotlib\n",
    "import matplotlib.pyplot as plt\n",
    "import seaborn as sns\n",
    "\n",
    "from modules.utils.general_utils import dirs_creation\n",
    "from modules.utils.data_utils import embedding_extraction"
   ]
  },
  {
   "cell_type": "code",
   "execution_count": 2,
   "metadata": {},
   "outputs": [],
   "source": [
    "plt.style.use('dark_background')"
   ]
  },
  {
   "cell_type": "code",
   "execution_count": 3,
   "metadata": {},
   "outputs": [],
   "source": [
    "PROJECT_NAME = 'league'"
   ]
  },
  {
   "cell_type": "code",
   "execution_count": 4,
   "metadata": {},
   "outputs": [],
   "source": [
    "targets_themes = pd.read_pickle(\n",
    "    f'results\\\\objects\\\\{PROJECT_NAME}\\\\themes.pkl'\n",
    ")\n",
    "TARGET_DECODER = pd.read_pickle(\n",
    "    f'results\\\\objects\\\\{PROJECT_NAME}\\\\target_decoder.pkl'\n",
    ")"
   ]
  },
  {
   "cell_type": "code",
   "execution_count": 5,
   "metadata": {},
   "outputs": [
    {
     "name": "stderr",
     "output_type": "stream",
     "text": [
      "100%|████████████████████████████████████████████████████████████████████████████████| 561/561 [00:34<00:00, 16.40it/s]\n"
     ]
    }
   ],
   "source": [
    "model = load_model(f'results\\\\models\\\\{PROJECT_NAME}')\n",
    "\n",
    "encodes, targets, colors = embedding_extraction(\n",
    "    model=model,\n",
    "    project_name=PROJECT_NAME,\n",
    "    target_decoder=TARGET_DECODER,\n",
    "    colors_bins=20,\n",
    "    extraction_point='features_extractor'\n",
    ")"
   ]
  },
  {
   "cell_type": "code",
   "execution_count": 6,
   "metadata": {},
   "outputs": [],
   "source": [
    "dirs_to_create = [f'results\\\\figures\\\\{PROJECT_NAME}']\n",
    "for dims in [2, 3]:\n",
    "    \n",
    "    dirs_to_create.append(f'results\\\\figures\\\\{PROJECT_NAME}\\\\{dims}D')\n",
    "   \n",
    "dirs_creation(\n",
    "    dirs_to_create,\n",
    "    wipe_dir=True\n",
    ")"
   ]
  },
  {
   "cell_type": "markdown",
   "metadata": {},
   "source": [
    "# 2D"
   ]
  },
  {
   "cell_type": "markdown",
   "metadata": {},
   "source": [
    "### TARGET EMEBDDDING"
   ]
  },
  {
   "cell_type": "code",
   "execution_count": 7,
   "metadata": {
    "scrolled": false
   },
   "outputs": [],
   "source": [
    "matplotlib.interactive(False)\n",
    "for target, theme in targets_themes.items():\n",
    "    \n",
    "    dirs_creation(\n",
    "        [f'results\\\\figures\\\\{PROJECT_NAME}\\\\2D\\\\{target}'],\n",
    "        wipe_dir=True\n",
    "    )\n",
    "\n",
    "    target_reduction = np.load(f'results\\\\objects\\\\{PROJECT_NAME}\\\\2D\\\\{target}.npy',)\n",
    "    index = np.argwhere(targets == target).flatten()\n",
    "    colors_target = colors[index]\n",
    "    \n",
    "    index_file = 0\n",
    "    accumulating_color_indices = []\n",
    "\n",
    "    for unique_color in np.unique(colors_target):\n",
    "        \n",
    "        accumulating_color_indices.extend(\n",
    "            np.argwhere(colors_target == unique_color).flatten().tolist()\n",
    "        )\n",
    "\n",
    "        fig_target, ax_target = plt.subplots(figsize=(10, 10))\n",
    "        ax_target.scatter(\n",
    "            target_reduction[accumulating_color_indices, 0],\n",
    "            target_reduction[accumulating_color_indices, 1],\n",
    "            s=0.5,\n",
    "            c=colors_target[accumulating_color_indices],\n",
    "            cmap=theme,\n",
    "            edgecolor='',\n",
    "            marker='o'\n",
    "        )\n",
    "        ax_target.axis('off')\n",
    "\n",
    "        ax_target.text(\n",
    "            0.5,\n",
    "            1,\n",
    "            target.upper(),\n",
    "            horizontalalignment='center',\n",
    "            verticalalignment='center',\n",
    "            transform=ax_target.transAxes,\n",
    "            fontname='Microsoft Yi Baiti',\n",
    "            size=20,\n",
    "            weight=1000\n",
    "        )\n",
    "\n",
    "        fig_target.savefig(\n",
    "            f'results\\\\figures\\\\{PROJECT_NAME}\\\\2D\\\\{target}\\\\{index_file}.png',\n",
    "            dpi=400\n",
    "        )\n",
    "        plt.close('all')\n",
    "        index_file += 1"
   ]
  },
  {
   "cell_type": "markdown",
   "metadata": {},
   "source": [
    "### GALAXY EMBEDDING"
   ]
  },
  {
   "cell_type": "code",
   "execution_count": 8,
   "metadata": {
    "scrolled": false
   },
   "outputs": [
    {
     "name": "stderr",
     "output_type": "stream",
     "text": [
      "c:\\users\\penthotal\\appdata\\local\\programs\\python\\python36\\lib\\site-packages\\ipykernel_launcher.py:62: UserWarning: Matplotlib is currently using module://ipykernel.pylab.backend_inline, which is a non-GUI backend, so cannot show the figure.\n"
     ]
    }
   ],
   "source": [
    "reduction = target_reduction = np.load(f'results\\\\objects\\\\{PROJECT_NAME}\\\\2D\\\\galaxy.npy',)\n",
    "\n",
    "fig_main, ax_main = plt.subplots(figsize=(10, 10))\n",
    "for target, theme in targets_themes.items():\n",
    "\n",
    "    index = np.argwhere(targets == target).flatten()\n",
    "    fig_sub, ax_sub = plt.subplots(figsize=(10, 10))\n",
    "    ax_sub.scatter(\n",
    "        reduction[:, 0][index],\n",
    "        reduction[:, 1][index],\n",
    "        s=0.25,\n",
    "        c=colors[index],\n",
    "        cmap=theme,\n",
    "        edgecolor='',\n",
    "        marker='o'\n",
    "    )\n",
    "    ax_sub.axis('off')\n",
    "\n",
    "    ax_sub.text(\n",
    "        0.5,\n",
    "        1,\n",
    "        target.upper(),\n",
    "        horizontalalignment='center',\n",
    "        verticalalignment='center',\n",
    "        transform=ax_sub.transAxes,\n",
    "        fontname='Microsoft Yi Baiti',\n",
    "        size=20,\n",
    "        weight='bold'\n",
    "    )\n",
    "    fig_sub.savefig(\n",
    "        f'results\\\\figures\\\\{PROJECT_NAME}\\\\2D\\\\galaxy_{target}.png',\n",
    "        dpi=400\n",
    "    )\n",
    "\n",
    "    ax_main.scatter(\n",
    "        reduction[:, 0][index],\n",
    "        reduction[:, 1][index],\n",
    "        s=0.25,\n",
    "        c=colors[index],\n",
    "        cmap=theme,\n",
    "        edgecolor='',\n",
    "        marker='o'\n",
    "    )\n",
    "\n",
    "    ax_main.axis('off')\n",
    "\n",
    "ax_main.text(\n",
    "    0.5,\n",
    "    1,\n",
    "    'A GALAXY OF BOOKS',\n",
    "    horizontalalignment='center',\n",
    "    verticalalignment='center',\n",
    "    transform=ax_main.transAxes,\n",
    "    fontname='Microsoft Yi Baiti',\n",
    "    size=20,\n",
    "    weight='bold'\n",
    ")\n",
    "fig_main.savefig(\n",
    "    f'results\\\\figures\\\\{PROJECT_NAME}\\\\2D\\\\galaxy.png',\n",
    "    dpi=400\n",
    ")\n",
    "fig_main.show()"
   ]
  },
  {
   "cell_type": "markdown",
   "metadata": {},
   "source": [
    "# 3D"
   ]
  },
  {
   "cell_type": "markdown",
   "metadata": {},
   "source": [
    "### TARGET EMBEDDING"
   ]
  },
  {
   "cell_type": "code",
   "execution_count": 9,
   "metadata": {
    "scrolled": false
   },
   "outputs": [],
   "source": [
    "for target, theme in targets_themes.items():\n",
    "    \n",
    "    root = f'results\\\\figures\\\\{PROJECT_NAME}\\\\3D\\\\{target}'\n",
    "    dirs_creation(\n",
    "        [root],\n",
    "        wipe_dir=True\n",
    "    )\n",
    "    index = np.argwhere(targets == target).flatten()\n",
    "    \n",
    "    target_reduction = np.load(f'results\\\\objects\\\\{PROJECT_NAME}\\\\3D\\\\{target}.npy',)\n",
    "\n",
    "    fig_target = plt.figure(figsize=(10, 10))\n",
    "    ax_target = fig_target.add_subplot(111, projection='3d')\n",
    "    \n",
    "    ax_target.scatter(\n",
    "        target_reduction[:, 0],\n",
    "        target_reduction[:, 1],\n",
    "        target_reduction[:, 2],\n",
    "        s=0.05,\n",
    "        c=colors[index],\n",
    "        cmap=theme,\n",
    "        marker='o'\n",
    "    )\n",
    "    ax_target.axis('off')\n",
    "\n",
    "    ax_target.text2D(\n",
    "        0.5,\n",
    "        1,\n",
    "        target.upper(),\n",
    "        horizontalalignment='center',\n",
    "        verticalalignment='center',\n",
    "        transform=ax_target.transAxes,\n",
    "        fontname='Microsoft Yi Baiti',\n",
    "        size=20,\n",
    "        weight=1000\n",
    "    )\n",
    "    \n",
    "    for angle in range(0, 360, 2):\n",
    "        \n",
    "        ax_target.view_init(30, angle)\n",
    "        fig_target.savefig(\n",
    "            f'results\\\\figures\\\\{PROJECT_NAME}\\\\3D\\\\{target}\\\\{angle}.png',\n",
    "            dpi=400\n",
    "        )"
   ]
  },
  {
   "cell_type": "markdown",
   "metadata": {},
   "source": [
    "### GALAXY EMBEDDING"
   ]
  },
  {
   "cell_type": "code",
   "execution_count": 10,
   "metadata": {
    "scrolled": false
   },
   "outputs": [],
   "source": [
    "reduction = target_reduction = np.load(f'results\\\\objects\\\\{PROJECT_NAME}\\\\3D\\\\galaxy.npy',)\n",
    "\n",
    "root = f'results\\\\figures\\\\{PROJECT_NAME}\\\\3D\\\\galaxy'\n",
    "dirs_creation(\n",
    "    [root],\n",
    "    wipe_dir=True\n",
    ")\n",
    "\n",
    "fig_main = plt.figure(figsize=(15, 15))\n",
    "ax_main = fig_main.add_subplot(111, projection='3d')\n",
    "for target, theme in targets_themes.items():\n",
    "    \n",
    "    root = f'results\\\\figures\\\\{PROJECT_NAME}\\\\3D\\\\galaxy_{target}'\n",
    "    dirs_creation(\n",
    "        [root],\n",
    "        wipe_dir=True\n",
    "    )\n",
    "\n",
    "    index = np.argwhere(targets == target).flatten()\n",
    "    fig_sub = plt.figure(figsize=(15, 15))\n",
    "    ax_sub = fig_sub.add_subplot(111, projection='3d')\n",
    "    \n",
    "    ax_sub.scatter(\n",
    "        reduction[:, 0][index],\n",
    "        reduction[:, 1][index],\n",
    "        reduction[:, 2][index],\n",
    "        s=0.05,\n",
    "        c=colors[index],\n",
    "        cmap=theme,\n",
    "        marker='o'\n",
    "    )\n",
    "    ax_sub.axis('off')\n",
    "\n",
    "    ax_sub.text2D(\n",
    "        0.5,\n",
    "        1,\n",
    "        target.upper(),\n",
    "        horizontalalignment='center',\n",
    "        verticalalignment='center',\n",
    "        transform=ax_sub.transAxes,\n",
    "        fontname='Microsoft Yi Baiti',\n",
    "        size=20,\n",
    "        weight='bold'\n",
    "    )\n",
    "    \n",
    "    for angle in range(0, 360, 2):\n",
    "\n",
    "        ax_sub.view_init(30, angle)\n",
    "        fig_sub.savefig(\n",
    "            f'results\\\\figures\\\\{PROJECT_NAME}\\\\3D\\\\galaxy_{target}\\\\{angle}.png',\n",
    "            dpi=400\n",
    "        )\n",
    "\n",
    "    ax_main.scatter(\n",
    "        reduction[:, 0][index],\n",
    "        reduction[:, 1][index],\n",
    "        reduction[:, 2][index],\n",
    "        s=0.05,\n",
    "        c=colors[index],\n",
    "        cmap=theme,\n",
    "        marker='o'\n",
    "    )\n",
    "\n",
    "    ax_main.axis('off')\n",
    "\n",
    "ax_main.text2D(\n",
    "    0.5,\n",
    "    1,\n",
    "    'A GALAXY OF BOOKS',\n",
    "    horizontalalignment='center',\n",
    "    verticalalignment='center',\n",
    "    transform=ax_main.transAxes,\n",
    "    fontname='Microsoft Yi Baiti',\n",
    "    size=20,\n",
    "    weight='bold'\n",
    ")\n",
    "for angle in range(0, 360, 2):\n",
    "\n",
    "    ax_main.view_init(30, angle)\n",
    "    fig_main.savefig(\n",
    "        f'results\\\\figures\\\\{PROJECT_NAME}\\\\3D\\\\galaxy\\\\{angle}.png',\n",
    "        dpi=400\n",
    "    )"
   ]
  },
  {
   "cell_type": "markdown",
   "metadata": {},
   "source": [
    "### GIFs Creation"
   ]
  },
  {
   "cell_type": "code",
   "execution_count": 12,
   "metadata": {},
   "outputs": [],
   "source": [
    "import imageio\n",
    "from pygifsicle import optimize\n",
    "\n",
    "images = []\n",
    "\n",
    "for i in range(50):\n",
    "    \n",
    "    images.append(imageio.imread(f'results//figures//league//2D//Dracula//{i}.png'))\n",
    "\n",
    "imageio.mimsave('dracula.gif', images, fps=5)"
   ]
  },
  {
   "cell_type": "code",
   "execution_count": 1,
   "metadata": {},
   "outputs": [],
   "source": [
    "from pygifsicle import optimize\n",
    "\n",
    "optimize('dracula.gif')"
   ]
  },
  {
   "cell_type": "code",
   "execution_count": null,
   "metadata": {},
   "outputs": [],
   "source": []
  }
 ],
 "metadata": {
  "kernelspec": {
   "display_name": "Python 3",
   "language": "python",
   "name": "python3"
  },
  "language_info": {
   "codemirror_mode": {
    "name": "ipython",
    "version": 3
   },
   "file_extension": ".py",
   "mimetype": "text/x-python",
   "name": "python",
   "nbconvert_exporter": "python",
   "pygments_lexer": "ipython3",
   "version": "3.6.2"
  }
 },
 "nbformat": 4,
 "nbformat_minor": 4
}
